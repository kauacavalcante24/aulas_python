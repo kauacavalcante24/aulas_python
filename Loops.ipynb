{
  "nbformat": 4,
  "nbformat_minor": 0,
  "metadata": {
    "colab": {
      "provenance": [],
      "authorship_tag": "ABX9TyON36dj7KnvVF+mPQnC/vVR",
      "include_colab_link": true
    },
    "kernelspec": {
      "name": "python3",
      "display_name": "Python 3"
    },
    "language_info": {
      "name": "python"
    }
  },
  "cells": [
    {
      "cell_type": "markdown",
      "metadata": {
        "id": "view-in-github",
        "colab_type": "text"
      },
      "source": [
        "<a href=\"https://colab.research.google.com/github/kauacavalcante24/aulas_python/blob/main/Loops.ipynb\" target=\"_parent\"><img src=\"https://colab.research.google.com/assets/colab-badge.svg\" alt=\"Open In Colab\"/></a>"
      ]
    },
    {
      "cell_type": "markdown",
      "source": [
        "## **Digite um número inteiro e diga se é par ou ímpar.**"
      ],
      "metadata": {
        "id": "3Z6jNlW-UTeT"
      }
    },
    {
      "cell_type": "code",
      "source": [
        "while True:\n",
        "    number = int(input('Digite um número inteiro: '))\n",
        "    print(' ')\n",
        "    if number % 2 == 0:\n",
        "      print(f'O número {number} é par')\n",
        "      print(' ')\n",
        "    else:\n",
        "        print(f'O número {number} é ímpar')\n",
        "        print(' ')\n",
        "    user_choice = input('Quer jogar novamente? ')\n",
        "    if user_choice == 'sim':\n",
        "        continue\n",
        "    else:\n",
        "        print(' ')\n",
        "        print('Encerrando jogo...')\n",
        "        print(' ')\n",
        "        break"
      ],
      "metadata": {
        "id": "rLgrZUbPUZIS"
      },
      "execution_count": null,
      "outputs": []
    },
    {
      "cell_type": "markdown",
      "source": [
        "## **Utilizando o loop While, solocite um número e eleve ao quadrado. Se for 0, encerre.**"
      ],
      "metadata": {
        "id": "DRgjPqnJWQjq"
      }
    },
    {
      "cell_type": "code",
      "source": [
        "while True:\n",
        "    num = int(input(\"Escolha um número: \"))\n",
        "    if num == 0:\n",
        "      print('Programa encerrado')\n",
        "      break\n",
        "    print(f'Elevado ao quadrado, esse número é {num**2}')"
      ],
      "metadata": {
        "id": "4xI3TDMFWZI1"
      },
      "execution_count": null,
      "outputs": []
    },
    {
      "cell_type": "markdown",
      "source": [
        "## **A soma dos números de 1 a 100 utilizando o laço For.**"
      ],
      "metadata": {
        "id": "FQ3oyGx4W007"
      }
    },
    {
      "cell_type": "code",
      "source": [
        "soma = 0\n",
        "for numero in range(1,101):\n",
        "  soma += 1\n",
        "  print(f'{numero} + {soma} = {numero+soma}')"
      ],
      "metadata": {
        "id": "EjAqrdQVW8Ha"
      },
      "execution_count": null,
      "outputs": []
    }
  ]
}