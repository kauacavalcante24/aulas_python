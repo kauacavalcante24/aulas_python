{
  "nbformat": 4,
  "nbformat_minor": 0,
  "metadata": {
    "colab": {
      "provenance": [],
      "authorship_tag": "ABX9TyOtFBQ6t8dHb5VSoVjgCA7m",
      "include_colab_link": true
    },
    "kernelspec": {
      "name": "python3",
      "display_name": "Python 3"
    },
    "language_info": {
      "name": "python"
    }
  },
  "cells": [
    {
      "cell_type": "markdown",
      "metadata": {
        "id": "view-in-github",
        "colab_type": "text"
      },
      "source": [
        "<a href=\"https://colab.research.google.com/github/kauacavalcante24/aulas_python/blob/main/listas_lambda_map.ipynb\" target=\"_parent\"><img src=\"https://colab.research.google.com/assets/colab-badge.svg\" alt=\"Open In Colab\"/></a>"
      ]
    },
    {
      "cell_type": "code",
      "execution_count": 4,
      "metadata": {
        "colab": {
          "base_uri": "https://localhost:8080/"
        },
        "id": "JQ_Cio__ZZQD",
        "outputId": "3cb8d024-5570-4118-bf82-7ee2a61b9699"
      },
      "outputs": [
        {
          "output_type": "stream",
          "name": "stdout",
          "text": [
            "[0, 1, 4, 9, 16, 25, 36, 49, 64, 81]\n"
          ]
        }
      ],
      "source": [
        "#números de 0 a 9 ao quadrado\n",
        "quadrados = [x**2 for x in range(10)]\n",
        "print(quadrados)"
      ]
    },
    {
      "cell_type": "code",
      "source": [
        "#Exibir os nomes que contém 4 ou menos letras e colocá-los em caixa alta\n",
        "nomes = ['João', 'Ana', 'Epaminodas', 'Godofredo', 'Lair', 'Setembrino']\n",
        "nome = [i.upper() for i in nomes if len(i) <= 4]\n",
        "print(nome)"
      ],
      "metadata": {
        "colab": {
          "base_uri": "https://localhost:8080/"
        },
        "id": "t5TSBJ5Zd-Ev",
        "outputId": "a79f3df3-f972-4521-c3de-040e59372124"
      },
      "execution_count": 23,
      "outputs": [
        {
          "output_type": "stream",
          "name": "stdout",
          "text": [
            "['JOÃO', 'ANA', 'LAIR']\n"
          ]
        }
      ]
    },
    {
      "cell_type": "code",
      "source": [],
      "metadata": {
        "id": "TxWnyxKIkGJv"
      },
      "execution_count": null,
      "outputs": []
    },
    {
      "cell_type": "code",
      "source": [
        "#Dobrar os números ímpares\n",
        "nums = [2, 4, 5, 7, 1, 10]\n",
        "num = [i*2 for i in nums if i % 2 != 0]\n",
        "print(num)"
      ],
      "metadata": {
        "colab": {
          "base_uri": "https://localhost:8080/"
        },
        "id": "uaMyAiosiIVL",
        "outputId": "5f1e4dba-027e-4d16-e815-f2e7ad8957c2"
      },
      "execution_count": 20,
      "outputs": [
        {
          "output_type": "stream",
          "name": "stdout",
          "text": [
            "[10, 14, 2]\n"
          ]
        }
      ]
    },
    {
      "cell_type": "code",
      "source": [
        "#Atribuir 2 pontos em notas abaixo de 5\n",
        "notas = [9.0, 4.5, 2.3, 6.0, 8.2, 5.3]\n",
        "notas_baixas = [i+2 for i in notas if i < 5]\n",
        "print(notas_baixas)"
      ],
      "metadata": {
        "colab": {
          "base_uri": "https://localhost:8080/"
        },
        "id": "8pwFEA1mirFq",
        "outputId": "15a90111-f42c-4ab7-a2cf-05bb6dc02ef7"
      },
      "execution_count": 22,
      "outputs": [
        {
          "output_type": "stream",
          "name": "stdout",
          "text": [
            "[6.5, 4.3]\n"
          ]
        }
      ]
    },
    {
      "cell_type": "code",
      "source": [
        "#Função anônima lambda que divide um número na metade\n",
        "half_number = lambda x : x/2\n",
        "print(half_number(10))"
      ],
      "metadata": {
        "colab": {
          "base_uri": "https://localhost:8080/"
        },
        "id": "t5GqWDAblQYj",
        "outputId": "a099c334-91e0-449a-a753-0e00ee446275"
      },
      "execution_count": 25,
      "outputs": [
        {
          "output_type": "stream",
          "name": "stdout",
          "text": [
            "5.0\n"
          ]
        }
      ]
    },
    {
      "cell_type": "code",
      "source": [
        "#Pega todos os números e os colocam ao quadrado.\n",
        "#map() é para alterar todos os valores de uma lista\n",
        "#list(map(lambda, lista))\n",
        "\n",
        "nums = [2, 3, 4, 5, 6, 7]\n",
        "squareds = list(map(lambda x: x**2, nums))\n",
        "print(squareds)"
      ],
      "metadata": {
        "colab": {
          "base_uri": "https://localhost:8080/"
        },
        "id": "n97r5Eehl5P1",
        "outputId": "6e50c118-655c-4b7c-dca0-b5313b28a867"
      },
      "execution_count": 26,
      "outputs": [
        {
          "output_type": "stream",
          "name": "stdout",
          "text": [
            "[4, 9, 16, 25, 36, 49]\n"
          ]
        }
      ]
    },
    {
      "cell_type": "code",
      "source": [
        "#Colocam as palavras em caixa alta\n",
        "words = ['é', 'kauã', 'isabelle']\n",
        "words_capslock = list(map(lambda x: x.upper(), words))\n",
        "print(words_capslock)"
      ],
      "metadata": {
        "colab": {
          "base_uri": "https://localhost:8080/"
        },
        "id": "iqx4FhlwnZCF",
        "outputId": "5b6ce1cb-1f6a-4638-cf33-28bd8fdfd6a5"
      },
      "execution_count": 27,
      "outputs": [
        {
          "output_type": "stream",
          "name": "stdout",
          "text": [
            "['É', 'KAUÃ', 'ISABELLE']\n"
          ]
        }
      ]
    },
    {
      "cell_type": "code",
      "source": [
        "#Filtra os números que são pares\n",
        "#filter() não altera o valor, como o map(), apenas filtra\n",
        "nums = [1, 2, 3, 4]\n",
        "pares = list(filter(lambda x: x%2 == 0, nums))\n",
        "print(pares)"
      ],
      "metadata": {
        "colab": {
          "base_uri": "https://localhost:8080/"
        },
        "id": "qeys9UQCoq1D",
        "outputId": "dfd8527d-7ac1-4827-ade7-21b57c5237b0"
      },
      "execution_count": 29,
      "outputs": [
        {
          "output_type": "stream",
          "name": "stdout",
          "text": [
            "[2, 4]\n"
          ]
        }
      ]
    },
    {
      "cell_type": "code",
      "source": [
        "#Filtrar apenas palavras com mais de 4 letras\n",
        "names = ['Cristiano', 'Alien', 'Isabelle', 'Kauã', 'Nate']\n",
        "large_names = list(filter(lambda x: len(x) > 4, names))\n",
        "print(large_names)"
      ],
      "metadata": {
        "colab": {
          "base_uri": "https://localhost:8080/"
        },
        "id": "hd5SUYOBpKQ9",
        "outputId": "5ba7f363-5c5e-4a06-f45f-a32d016d1f3d"
      },
      "execution_count": 33,
      "outputs": [
        {
          "output_type": "stream",
          "name": "stdout",
          "text": [
            "['Cristiano', 'Alien', 'Isabelle']\n"
          ]
        }
      ]
    },
    {
      "cell_type": "code",
      "source": [
        "#Filtrar números que são maiores que 10\n",
        "nums = [1, 5, 10, 44, 24, 13]\n",
        "big_nums = list(filter(lambda x: x>10, nums))\n",
        "print(big_nums)"
      ],
      "metadata": {
        "colab": {
          "base_uri": "https://localhost:8080/"
        },
        "id": "6zOigLeRqdPX",
        "outputId": "7295ee11-c932-4d34-a3af-bfafa2125461"
      },
      "execution_count": 35,
      "outputs": [
        {
          "output_type": "stream",
          "name": "stdout",
          "text": [
            "[44, 24, 13]\n"
          ]
        }
      ]
    },
    {
      "cell_type": "code",
      "source": [
        "nums = [3, 7, 2, 8, 1, 4, 10]\n",
        "print(f'Lista Inicial: {nums}')\n",
        "\n",
        "#dobrar com map()\n",
        "double_nums = list(map(lambda x: x*2, nums))\n",
        "print(f'dobrar com map(): {double_nums}')\n",
        "\n",
        "#apenas pares com filter()\n",
        "nums_pares = list(filter(lambda x: x%2 == 0, nums))\n",
        "print(f'apenas pares com filter(): {nums_pares}')\n",
        "\n",
        "#pares são dobrados e ímpares permanecem\n",
        "double_nums_pares = [i*2 if i%2 == 0 else i for i in nums]\n",
        "print(f'pares são dobrados e ímpares permanecem: {double_nums_pares}')"
      ],
      "metadata": {
        "colab": {
          "base_uri": "https://localhost:8080/"
        },
        "id": "9YvL1vz3rVK4",
        "outputId": "31a3caf5-28c0-41b0-8224-f68a787920aa"
      },
      "execution_count": 54,
      "outputs": [
        {
          "output_type": "stream",
          "name": "stdout",
          "text": [
            "Lista Inicial: [3, 7, 2, 8, 1, 4, 10]\n",
            "dobrar com map(): [6, 14, 4, 16, 2, 8, 20]\n",
            "apenas pares com filter(): [2, 8, 4, 10]\n",
            "pares são dobrados e ímpares permanecem: [3, 7, 4, 16, 1, 8, 20]\n"
          ]
        }
      ]
    }
  ]
}