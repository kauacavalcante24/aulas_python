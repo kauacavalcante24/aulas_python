{
  "nbformat": 4,
  "nbformat_minor": 0,
  "metadata": {
    "colab": {
      "provenance": [],
      "authorship_tag": "ABX9TyP/bs4LKzu9bJzd5ZnPHMKf",
      "include_colab_link": true
    },
    "kernelspec": {
      "name": "python3",
      "display_name": "Python 3"
    },
    "language_info": {
      "name": "python"
    }
  },
  "cells": [
    {
      "cell_type": "markdown",
      "metadata": {
        "id": "view-in-github",
        "colab_type": "text"
      },
      "source": [
        "<a href=\"https://colab.research.google.com/github/kauacavalcante24/aulas_python/blob/main/Listas.ipynb\" target=\"_parent\"><img src=\"https://colab.research.google.com/assets/colab-badge.svg\" alt=\"Open In Colab\"/></a>"
      ]
    },
    {
      "cell_type": "code",
      "execution_count": null,
      "metadata": {
        "id": "HhYzwSzFUMtG"
      },
      "outputs": [],
      "source": [
        "#imprimir lista\n",
        "\n",
        "frutas = ['maçã', 'banana', 'laranja', 'abacate']\n",
        "print(frutas)"
      ]
    },
    {
      "cell_type": "code",
      "source": [
        "#len() - identificar o tamanho de uma lista\n",
        "\n",
        "frutas = ['maçã', 'banana', 'laranja', 'abacate']\n",
        "print(len(frutas))"
      ],
      "metadata": {
        "id": "l3uOwAI7UO0s"
      },
      "execution_count": null,
      "outputs": []
    },
    {
      "cell_type": "code",
      "source": [
        "#count() - quantas vezes um valor aparece\n",
        "\n",
        "frutas = ['maçã', 'banana', 'laranja', 'abacate', 'abacate']\n",
        "print(frutas.count('abacate'))"
      ],
      "metadata": {
        "id": "_QKCgpLQUS4q"
      },
      "execution_count": null,
      "outputs": []
    },
    {
      "cell_type": "code",
      "source": [
        "#Imprimir elementos de uma lista pelo índice\n",
        "\n",
        "carros = ['gol', 'uno', 'fiesta', 'lada', 'marajó', 'voyage', 'santana']\n",
        "\n",
        "print(carros[0]) #gol\n",
        "print(carros[1]) #uno\n",
        "print(carros[2]) #santana\n",
        "print(carros[-1]) #Slice do índice 2 ao índice 4\n",
        "print(carros[2:5]) #Slice até o índice 3\n",
        "print(carros[:4]) #Slice até o índice 3\n",
        "print(carros[2:]) #Slice a partir do índice 2\n",
        "#print(carros[0]) #Out of Index"
      ],
      "metadata": {
        "id": "j3FAx7Y1UV4x"
      },
      "execution_count": null,
      "outputs": []
    },
    {
      "cell_type": "code",
      "source": [
        "#Adicionar elementos a uma lista\n",
        "\n",
        "frutas.append('goiaba')\n",
        "print(frutas)"
      ],
      "metadata": {
        "id": "qnnUgqOUUWAi"
      },
      "execution_count": null,
      "outputs": []
    },
    {
      "cell_type": "code",
      "source": [
        "#Código em que o usuário consegue adicionar uma fruta à lista\n",
        "\n",
        "frutas = []\n",
        "\n",
        "user_fruit = str(input('Adicione uma fruta: '))\n",
        "frutas.append(user_fruit)\n",
        "print(frutas)"
      ],
      "metadata": {
        "id": "VNVc8UcyUZ1J"
      },
      "execution_count": null,
      "outputs": []
    },
    {
      "cell_type": "code",
      "source": [
        "#Looping em que o usuário consegue adicionar carros na lista\n",
        "\n",
        "car_list = []\n",
        "\n",
        "while True:\n",
        "  user_car = input('Adicione um carro ou 0 para encerrar: ')\n",
        "  if user_car == '0':\n",
        "    print(car_list)\n",
        "    print('Quantidades de carros: ', len(car_list))\n",
        "    break\n",
        "  car_list.append(user_car)"
      ],
      "metadata": {
        "id": "2JhqesvRUfw6"
      },
      "execution_count": null,
      "outputs": []
    },
    {
      "cell_type": "code",
      "source": [
        "#Verifica quantas vezes o valor do usuário aparece na lista, se houver.\n",
        "\n",
        "lista = ['homem', 'mulher', 'mulher']\n",
        "user_value = str(input('Digite um gênero: ')).lower()\n",
        "if user_value in lista:\n",
        "  print(f'Número de vezes que {user_value} aparece: {lista.count(user_value)}')\n",
        "else:\n",
        "  print(f'Não há ocorrências de {user_value} na lista!')"
      ],
      "metadata": {
        "id": "q1_51lmwUkqj"
      },
      "execution_count": null,
      "outputs": []
    },
    {
      "cell_type": "code",
      "source": [
        "#Apagar valor de uma lista\n",
        "\n",
        "lista = ['kauã', 'raylla', 'isabelle', 'debora']\n",
        "\n",
        "carros.pop(3) #pela posição\n",
        "\n",
        "indice = lista.index('debora')\n",
        "lista.pop(indice) #pelo nome"
      ],
      "metadata": {
        "id": "wgnsbSudU0OT"
      },
      "execution_count": null,
      "outputs": []
    },
    {
      "cell_type": "code",
      "source": [
        "# del list[index]\n",
        "\n",
        "nums = [1, 2, 3, 6, 3, 6, 6]\n",
        "\n",
        "del nums[3:]\n",
        "print(nums)"
      ],
      "metadata": {
        "id": "adSaGs_kU6Ih"
      },
      "execution_count": null,
      "outputs": []
    },
    {
      "cell_type": "code",
      "source": [
        "#remove() - remove a primeira ocorrência do valor\n",
        "\n",
        "lista = ['jaca', 'jaca', 'melão']\n",
        "lista.remove('jaca')\n",
        "print(lista)"
      ],
      "metadata": {
        "id": "QHgUhG7SU6Ko"
      },
      "execution_count": null,
      "outputs": []
    },
    {
      "cell_type": "code",
      "source": [
        "#list comprehension - apenas irá exibir se for diferente de jaca\n",
        "lista = ['jaca', 'melão', 'maçã', 'uva', 'jaca']\n",
        "fruta_remover = 'jaca'\n",
        "lista = [i for i in lista if i != fruta_remover]\n",
        "print(lista)"
      ],
      "metadata": {
        "id": "HzVOa2snU_DU"
      },
      "execution_count": null,
      "outputs": []
    },
    {
      "cell_type": "code",
      "source": [
        "#Apenas irá exibir notas iguais ou acima de 6\n",
        "\n",
        "notas = [6, 8, 5, 4, 7, 7, 9, 3, 6]\n",
        "notas = [i for i in notas if i >= 6]\n",
        "print(notas)"
      ],
      "metadata": {
        "id": "_R-3sV6zVA3B"
      },
      "execution_count": null,
      "outputs": []
    },
    {
      "cell_type": "code",
      "source": [
        "lista = []\n",
        "\n",
        "while True:\n",
        "  print('='*50)\n",
        "  print()\n",
        "  print('MENU DE OPÇÕES')\n",
        "  print()\n",
        "  print('1- Adicionar tarefa\\n2- Remover tarefas\\n3- Listar tarefas\\n4- Sair')\n",
        "  print()\n",
        "  user_choice = int(input('Selecione uma opção: '))\n",
        "\n",
        "  match user_choice:\n",
        "    case(1):\n",
        "      print()\n",
        "      print(('-'*10),'> ADICIONAR TAREFAS')\n",
        "      while True:\n",
        "        print()\n",
        "        user_text = input('Adicione sua tarefa (ou 0 para sair): ')\n",
        "        if user_text == '0':\n",
        "          break\n",
        "        lista.append(user_text)\n",
        "        print(f'Tarefa adicionada: {user_text}')\n",
        "      print()\n",
        "      print('Lista atual:')\n",
        "      print()\n",
        "      num = 0\n",
        "      if lista:\n",
        "        for i in lista:\n",
        "          print(f'{num} - {i}')\n",
        "          num = num + 1\n",
        "      else:\n",
        "        print('A lista está vazia!')\n",
        "      print()\n",
        "\n",
        "    case(2):\n",
        "      print()\n",
        "      print(('-'*10),'> REMOVER TAREFAS')\n",
        "      print()\n",
        "      print('Lista atual:')\n",
        "      print()\n",
        "      num = 0\n",
        "      if lista:\n",
        "        for i in lista:\n",
        "          print(f'{num} - {i}')\n",
        "          num = num + 1\n",
        "      else:\n",
        "        print('A lista está vazia!')\n",
        "      print()\n",
        "      user_choice = int(input('Escolha qual tarefa remover pelo número: '))\n",
        "      print(f'Tarefa \"{lista[user_choice]}\" foi removida!')\n",
        "      lista.pop(user_choice)\n",
        "      print()\n",
        "      print('Lista atualizada:')\n",
        "      print()\n",
        "      num = 0\n",
        "      if lista:\n",
        "        for i in lista:\n",
        "          print(f'{num} - {i}')\n",
        "          num = num + 1\n",
        "      else:\n",
        "        print('A lista está vazia!')\n",
        "      print()\n",
        "\n",
        "    case(3):\n",
        "      print()\n",
        "      print(('-'*10),'> LISTAGEM DE TAREFAS')\n",
        "      print()\n",
        "      print('Lista atual:')\n",
        "      print()\n",
        "      num = 0\n",
        "      if lista:\n",
        "        for i in lista:\n",
        "          print(f'{num} - {i}')\n",
        "          num = num + 1\n",
        "      else:\n",
        "        print('A lista está vazia!')\n",
        "      print()\n",
        "\n",
        "    case(4):\n",
        "      print()\n",
        "      print('Programa encerrado!')\n",
        "      print()\n",
        "      break\n",
        "\n",
        "    case _:\n",
        "      print()\n",
        "      print('VALOR INVÁLIDO!')\n",
        "      print()"
      ],
      "metadata": {
        "id": "W77UDhdNVDXK"
      },
      "execution_count": null,
      "outputs": []
    }
  ]
}