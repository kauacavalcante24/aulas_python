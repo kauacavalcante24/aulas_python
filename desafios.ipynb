{
  "nbformat": 4,
  "nbformat_minor": 0,
  "metadata": {
    "colab": {
      "provenance": [],
      "authorship_tag": "ABX9TyO6p6ObBbNfAs1qGgZSpO3D",
      "include_colab_link": true
    },
    "kernelspec": {
      "name": "python3",
      "display_name": "Python 3"
    },
    "language_info": {
      "name": "python"
    }
  },
  "cells": [
    {
      "cell_type": "markdown",
      "metadata": {
        "id": "view-in-github",
        "colab_type": "text"
      },
      "source": [
        "<a href=\"https://colab.research.google.com/github/kauacavalcante24/aulas_python/blob/main/desafios.ipynb\" target=\"_parent\"><img src=\"https://colab.research.google.com/assets/colab-badge.svg\" alt=\"Open In Colab\"/></a>"
      ]
    },
    {
      "cell_type": "markdown",
      "source": [
        "## **Receba três valores e diga se podem formar um triângulo (cada lado menor que a soma dos outros dois lados).**"
      ],
      "metadata": {
        "id": "csojK5pPeswZ"
      }
    },
    {
      "cell_type": "code",
      "execution_count": null,
      "metadata": {
        "id": "3D6f5ZG0diQM"
      },
      "outputs": [],
      "source": [
        "print('Abaixo, escreva três números inteiros.')\n",
        "value1 = int(input('Número 1: '))\n",
        "value2 = int(input('Número 2: '))\n",
        "value3 = int(input('Número 3: '))\n",
        "conditions = 0\n",
        "\n",
        "if (value1+value2) > value3:\n",
        "  conditions += 1\n",
        "if (value1+value3) > value2:\n",
        "  conditions += 1\n",
        "if (value2+value3) > value1:\n",
        "  conditions += 1\n",
        "if conditions == 3:\n",
        "  print('Os três números poderão formar um triângulo!')\n",
        "else:\n",
        "  print('Os três números NÃO poderá formar um triângulo!')"
      ]
    },
    {
      "cell_type": "markdown",
      "source": [
        "## **Crie um jogo onde o programa sorteia um número entre 1 e 5 e o usuário deve adivinhar qual foi. Informe se ele acertou ou não.**\n"
      ],
      "metadata": {
        "id": "Nq0p07QGh0cm"
      }
    },
    {
      "cell_type": "code",
      "source": [
        "from random import randint as ri\n",
        "\n",
        "random_num = ri(1, 5)\n",
        "while True:\n",
        "  print(' ')\n",
        "  user_choice = int(input('Escolha um número de 1 - 5: '))\n",
        "  print(' ')\n",
        "  if user_choice == random_num:\n",
        "    print(f'Parabéns! Você acertou, é o número {random_num}')\n",
        "    break\n",
        "  else:\n",
        "    question = input('Errou! Quer tentar novamente? ')\n",
        "    if question.lower() == 'sim':\n",
        "      print(' ')\n",
        "      continue\n",
        "    else:\n",
        "      print(' ')\n",
        "      print('Jogo encerrado!')\n",
        "      print(' ')\n",
        "      break"
      ],
      "metadata": {
        "id": "9squj9MCiAH1"
      },
      "execution_count": null,
      "outputs": []
    },
    {
      "cell_type": "markdown",
      "source": [
        "## **Peça ao usuário um ano e informe se é bissexto ou não.**"
      ],
      "metadata": {
        "id": "zw571Athq_Zh"
      }
    },
    {
      "cell_type": "code",
      "source": [
        "user_year = int(input('Escreva um ano. (ex: 2025): '))\n",
        "if (user_year % 4 == 0 and user_year % 100 != 0) or (user_year % 400 == 0):\n",
        "  print(f'{user_year} é um ano bissexto!')\n",
        "else:\n",
        "  print(f'{user_year} não é um ano bissexto!')"
      ],
      "metadata": {
        "id": "0_qfalqgpvHq"
      },
      "execution_count": null,
      "outputs": []
    }
  ]
}